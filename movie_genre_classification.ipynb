{
  "nbformat": 4,
  "nbformat_minor": 0,
  "metadata": {
    "colab": {
      "provenance": []
    },
    "kernelspec": {
      "name": "python3",
      "display_name": "Python 3"
    },
    "language_info": {
      "name": "python"
    }
  },
  "cells": [
    {
      "cell_type": "code",
      "execution_count": 13,
      "metadata": {
        "id": "5Stt6IafJ3_R"
      },
      "outputs": [],
      "source": [
        "import pandas as pd\n",
        "from sklearn.feature_extraction.text import TfidfVectorizer\n",
        "from sklearn.naive_bayes import MultinomialNB\n",
        "from sklearn.pipeline import make_pipeline\n",
        "from sklearn.metrics import accuracy_score, classification_report"
      ]
    },
    {
      "cell_type": "markdown",
      "source": [
        "## Load the dataset from text files"
      ],
      "metadata": {
        "id": "nD1SrIu4KzvW"
      }
    },
    {
      "cell_type": "code",
      "source": [
        "train_data = pd.read_csv(\"train_data.txt\", sep=\" ::: \", engine='python', header=None, names=[\"ID\", \"TITLE\", \"GENRE\", \"DESCRIPTION\"])\n",
        "test_data = pd.read_csv(\"test_data.txt\", sep=\" ::: \", engine='python', header=None, names=[\"ID\", \"TITLE\", \"DESCRIPTION\"])"
      ],
      "metadata": {
        "id": "nn6eXWPlKuVI"
      },
      "execution_count": 14,
      "outputs": []
    },
    {
      "cell_type": "markdown",
      "source": [
        "## Display the first few rows of the training data"
      ],
      "metadata": {
        "id": "KnOi-VwGK_lV"
      }
    },
    {
      "cell_type": "code",
      "source": [
        "print(train_data.head())"
      ],
      "metadata": {
        "id": "LkO3i_jjKuej"
      },
      "execution_count": null,
      "outputs": []
    },
    {
      "cell_type": "markdown",
      "source": [
        "## Define features and target"
      ],
      "metadata": {
        "id": "XZ2KDV6YLL_1"
      }
    },
    {
      "cell_type": "code",
      "source": [
        "X_train = train_data['DESCRIPTION']\n",
        "y_train = train_data['GENRE']\n",
        "X_test = test_data['DESCRIPTION']"
      ],
      "metadata": {
        "id": "TGmLfKPnKunY"
      },
      "execution_count": null,
      "outputs": []
    },
    {
      "cell_type": "markdown",
      "source": [
        "## Create a pipeline with TF-IDF vectorizer and Naive Bayes classifier"
      ],
      "metadata": {
        "id": "8Qw7nf3eLZ5r"
      }
    },
    {
      "cell_type": "code",
      "source": [
        "model = make_pipeline(TfidfVectorizer(), MultinomialNB())"
      ],
      "metadata": {
        "id": "0R3IsV01Kuxx"
      },
      "execution_count": null,
      "outputs": []
    },
    {
      "cell_type": "markdown",
      "source": [
        "## Train the model"
      ],
      "metadata": {
        "id": "gI5gHSRdLkWr"
      }
    },
    {
      "cell_type": "code",
      "source": [
        "model.fit(X_train, y_train)"
      ],
      "metadata": {
        "id": "PlbeiM07Ku4T"
      },
      "execution_count": null,
      "outputs": []
    },
    {
      "cell_type": "markdown",
      "source": [
        "## Predictions"
      ],
      "metadata": {
        "id": "72Al1dwOLraO"
      }
    },
    {
      "cell_type": "code",
      "source": [
        "y_pred = model.predict(X_test)"
      ],
      "metadata": {
        "id": "NB-vUHrSKu_s"
      },
      "execution_count": null,
      "outputs": []
    },
    {
      "cell_type": "markdown",
      "source": [
        "## Output predictions"
      ],
      "metadata": {
        "id": "a8NjUUuhLy8G"
      }
    },
    {
      "cell_type": "code",
      "source": [
        "test_data['PREDICTED_GENRE'] = y_pred\n",
        "print(test_data[['ID', 'TITLE', 'PREDICTED_GENRE']])"
      ],
      "metadata": {
        "id": "gqIx4Gn6KvG8"
      },
      "execution_count": null,
      "outputs": []
    }
  ]
}