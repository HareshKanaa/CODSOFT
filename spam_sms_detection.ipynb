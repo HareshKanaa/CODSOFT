{
  "nbformat": 4,
  "nbformat_minor": 0,
  "metadata": {
    "colab": {
      "provenance": []
    },
    "kernelspec": {
      "name": "python3",
      "display_name": "Python 3"
    },
    "language_info": {
      "name": "python"
    }
  },
  "cells": [
    {
      "cell_type": "markdown",
      "source": [
        "# Import the libraries"
      ],
      "metadata": {
        "id": "z8HJ96Y4CEWm"
      }
    },
    {
      "cell_type": "code",
      "execution_count": 3,
      "metadata": {
        "id": "zB109tWWATgi"
      },
      "outputs": [],
      "source": [
        "import pandas as pd\n",
        "from sklearn.feature_extraction.text import TfidfVectorizer\n",
        "from sklearn.model_selection import train_test_split\n",
        "from sklearn.naive_bayes import MultinomialNB\n",
        "from sklearn.linear_model import LogisticRegression\n",
        "from sklearn.svm import SVC\n",
        "from sklearn.metrics import accuracy_score, classification_report"
      ]
    },
    {
      "cell_type": "markdown",
      "source": [
        "# Load the dataset"
      ],
      "metadata": {
        "id": "lGAoONGaA9o2"
      }
    },
    {
      "cell_type": "code",
      "source": [
        "data = pd.read_csv('spam.csv', encoding='latin-1')"
      ],
      "metadata": {
        "id": "oZxWer0pBZVT"
      },
      "execution_count": 4,
      "outputs": []
    },
    {
      "cell_type": "markdown",
      "source": [
        "# Select relevant columns"
      ],
      "metadata": {
        "id": "bGk9l8wWA9z3"
      }
    },
    {
      "cell_type": "code",
      "source": [
        "data = data[['v1', 'v2']]"
      ],
      "metadata": {
        "id": "5JX5OV6sBaHG"
      },
      "execution_count": 5,
      "outputs": []
    },
    {
      "cell_type": "markdown",
      "source": [
        "# Rename columns for clarity"
      ],
      "metadata": {
        "id": "3fjz-Fj_A99V"
      }
    },
    {
      "cell_type": "code",
      "source": [
        "data.columns = ['label', 'text']"
      ],
      "metadata": {
        "id": "Vpe2wp-8BatQ"
      },
      "execution_count": 6,
      "outputs": []
    },
    {
      "cell_type": "markdown",
      "source": [
        "# Split data into features and labels"
      ],
      "metadata": {
        "id": "Uch8V-0iA-GX"
      }
    },
    {
      "cell_type": "code",
      "source": [
        "X = data['text']\n",
        "y = data['label']"
      ],
      "metadata": {
        "id": "Pmb3gQ_DBbTu"
      },
      "execution_count": 7,
      "outputs": []
    },
    {
      "cell_type": "markdown",
      "source": [
        "# Vectorize the text using TF-IDF"
      ],
      "metadata": {
        "id": "Wf9OPZu8A-QJ"
      }
    },
    {
      "cell_type": "code",
      "source": [
        "vectorizer = TfidfVectorizer()\n",
        "X_vectorized = vectorizer.fit_transform(X)"
      ],
      "metadata": {
        "id": "TMnP3cRvBbuc"
      },
      "execution_count": 8,
      "outputs": []
    },
    {
      "cell_type": "markdown",
      "source": [
        "# Split the dataset into training and testing sets"
      ],
      "metadata": {
        "id": "Ek9JRJq0A-ZA"
      }
    },
    {
      "cell_type": "code",
      "source": [
        "X_train, X_test, y_train, y_test = train_test_split(X_vectorized, y, test_size=0.2, random_state=42)"
      ],
      "metadata": {
        "id": "6CAr5jMFBcRc"
      },
      "execution_count": 9,
      "outputs": []
    },
    {
      "cell_type": "markdown",
      "source": [
        "# Initialize classifiers"
      ],
      "metadata": {
        "id": "X5JDz8xWA-iN"
      }
    },
    {
      "cell_type": "code",
      "source": [
        "classifiers = {\n",
        "    \"Naive Bayes\": MultinomialNB(),\n",
        "    \"Logistic Regression\": LogisticRegression(),\n",
        "    \"Support Vector Machine\": SVC()\n",
        "}"
      ],
      "metadata": {
        "id": "9WU7lW16Bc9R"
      },
      "execution_count": 10,
      "outputs": []
    },
    {
      "cell_type": "markdown",
      "source": [
        "# Train and evaluate classifiers"
      ],
      "metadata": {
        "id": "liMMXs5SA-qL"
      }
    },
    {
      "cell_type": "code",
      "source": [
        "for name, classifier in classifiers.items():\n",
        "    classifier.fit(X_train, y_train)\n",
        "    y_pred = classifier.predict(X_test)\n",
        "    accuracy = accuracy_score(y_test, y_pred)\n",
        "    print(f\"{name} Accuracy: {accuracy}\")\n",
        "    print(classification_report(y_test, y_pred))\n",
        "    print(\"\\n-------------------------------------------------------\\n\")"
      ],
      "metadata": {
        "colab": {
          "base_uri": "https://localhost:8080/"
        },
        "id": "5SYiOW8XBeYG",
        "outputId": "b52afa8d-58e3-49d6-fb8c-a1c951b03304"
      },
      "execution_count": 11,
      "outputs": [
        {
          "output_type": "stream",
          "name": "stdout",
          "text": [
            "Naive Bayes Accuracy: 0.9623318385650225\n",
            "              precision    recall  f1-score   support\n",
            "\n",
            "         ham       0.96      1.00      0.98       965\n",
            "        spam       1.00      0.72      0.84       150\n",
            "\n",
            "    accuracy                           0.96      1115\n",
            "   macro avg       0.98      0.86      0.91      1115\n",
            "weighted avg       0.96      0.96      0.96      1115\n",
            "\n",
            "\n",
            "-------------------------------------------------------\n",
            "\n",
            "Logistic Regression Accuracy: 0.9623318385650225\n",
            "              precision    recall  f1-score   support\n",
            "\n",
            "         ham       0.96      1.00      0.98       965\n",
            "        spam       1.00      0.72      0.84       150\n",
            "\n",
            "    accuracy                           0.96      1115\n",
            "   macro avg       0.98      0.86      0.91      1115\n",
            "weighted avg       0.96      0.96      0.96      1115\n",
            "\n",
            "\n",
            "-------------------------------------------------------\n",
            "\n",
            "Support Vector Machine Accuracy: 0.9766816143497757\n",
            "              precision    recall  f1-score   support\n",
            "\n",
            "         ham       0.97      1.00      0.99       965\n",
            "        spam       1.00      0.83      0.91       150\n",
            "\n",
            "    accuracy                           0.98      1115\n",
            "   macro avg       0.99      0.91      0.95      1115\n",
            "weighted avg       0.98      0.98      0.98      1115\n",
            "\n",
            "\n",
            "-------------------------------------------------------\n",
            "\n"
          ]
        }
      ]
    }
  ]
}